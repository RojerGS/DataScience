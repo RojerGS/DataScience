{
 "cells": [
  {
   "cell_type": "code",
   "execution_count": 1,
   "metadata": {},
   "outputs": [],
   "source": [
    "from sklearn.decomposition import PCA\n",
    "from sklearn.decomposition import TruncatedSVD\n",
    "from sklearn.metrics.pairwise import cosine_similarity\n",
    "import numpy as np\n",
    "import random\n",
    "import pandas\n",
    "from nltk.stem import PorterStemmer\n",
    "\n",
    "stemmer = PorterStemmer()\n",
    "\n",
    "# make this point to the file with the clean tweets\n",
    "DATAFILE = \"data_clean_stemmed_withoutRT.csv\"\n",
    "# make this point to the file with the text tweets\n",
    "TWEETSFILE = \"data_original_notStemmed_withoutRT.csv\""
   ]
  },
  {
   "cell_type": "code",
   "execution_count": 2,
   "metadata": {},
   "outputs": [],
   "source": [
    "# import the tweets\n",
    "text_tweets = pandas.read_csv(TWEETSFILE, index_col=0)\n",
    "# read the csv\n",
    "data = pandas.read_csv(DATAFILE, index_col=0)\n",
    "# get all the tweets\n",
    "# as of now, they are still strings, the string representation of the list\n",
    "tweets = []\n",
    "for tweet in data[\"text\"]:\n",
    "    tweets.append(eval(tweet))\n",
    "    \n",
    "# find all unique words\n",
    "uniqueWords = {}\n",
    "words = []\n",
    "wordIndex = {}\n",
    "for tweet in tweets:\n",
    "    for word in tweet:\n",
    "        if word in uniqueWords.keys():\n",
    "            uniqueWords[word] += 1\n",
    "        else:\n",
    "            words.append(word)\n",
    "            wordIndex[word] = len(words)-1\n",
    "            uniqueWords[word] = 1"
   ]
  },
  {
   "cell_type": "code",
   "execution_count": 3,
   "metadata": {},
   "outputs": [
    {
     "name": "stdout",
     "output_type": "stream",
     "text": [
      "(3035, 4820)\n"
     ]
    }
   ],
   "source": [
    "# build a matrix A\n",
    "# each row i refers to a tweet\n",
    "# entry A_(i,j) has the number of times word j shows up in tweet i\n",
    "\n",
    "matrix = np.zeros([len(tweets), len(uniqueWords.keys())])\n",
    "print(matrix.shape)\n",
    "\n",
    "for i, tweet in enumerate(tweets):\n",
    "    for w, word in enumerate(tweet):\n",
    "        wordIdx = wordIndex[word]\n",
    "        matrix[i, wordIdx] += 1"
   ]
  },
  {
   "cell_type": "code",
   "execution_count": 4,
   "metadata": {},
   "outputs": [],
   "source": [
    "def get_svd(n):\n",
    "    cached = get_svd.memory.get(n, None)\n",
    "    if cached is not None:\n",
    "        return cached\n",
    "    else:\n",
    "        svd = TruncatedSVD(n_components = n)\n",
    "        svd.fit(matrix)\n",
    "        get_svd.memory[n] = svd\n",
    "        return svd\n",
    "get_svd.memory = dict()\n",
    "\n",
    "def get_reduced_tweets(n):\n",
    "    cached = get_reduced_tweets.memory.get(n, None)\n",
    "    if cached is not None:\n",
    "        return cached\n",
    "    else:\n",
    "        svd = get_svd(n)\n",
    "        reduced = svd.transform(matrix)\n",
    "        get_reduced_tweets.memory[n] = reduced\n",
    "        return reduced\n",
    "get_reduced_tweets.memory = dict()"
   ]
  },
  {
   "cell_type": "code",
   "execution_count": 5,
   "metadata": {},
   "outputs": [],
   "source": [
    "def query(n, q, k):\n",
    "    \"\"\" Looks for the K closest tweets in the reduced data in R^n (the argument of the function)\n",
    "    The query q should be a string, for example composed of terms or a tweet\n",
    "    \n",
    "    Returns the ***indices*** of the K closest matches \"\"\"\n",
    "    words = q.split()\n",
    "    stemmed = list(map(lambda w: stemmer.stem(w), words))\n",
    "    print(stemmed)\n",
    "    # build the vector with the right representation\n",
    "    vec = np.zeros([1, len(uniqueWords.keys())])\n",
    "    for i, word in enumerate(stemmed):\n",
    "        idx = wordIndex.get(word, None)\n",
    "        if idx is None:\n",
    "            # if this word has never been seen, let the user know\n",
    "            print(f\"Ignoring word '{words[i]}'\")\n",
    "        else:\n",
    "            vec[0, idx] += 1\n",
    "    print()\n",
    "    \n",
    "    # transform the vector\n",
    "    svd = get_svd(n)\n",
    "    transformed = svd.transform(vec)\n",
    "    \n",
    "    # find the closest vectors\n",
    "    tweets = get_reduced_tweets(n)\n",
    "    sims = cosine_similarity(tweets, transformed)\n",
    "    \n",
    "    # return the top k similarities\n",
    "    tops = []\n",
    "    for i in range(k):\n",
    "        tops.append(np.argmax(sims))\n",
    "        sims[tops[-1]] = -100\n",
    "    return tops"
   ]
  },
  {
   "cell_type": "markdown",
   "metadata": {},
   "source": [
    "## Example usage"
   ]
  },
  {
   "cell_type": "code",
   "execution_count": 15,
   "metadata": {},
   "outputs": [
    {
     "name": "stdout",
     "output_type": "stream",
     "text": [
      "['car', 'automobil', 'vehicl']\n",
      "\n",
      "“U.S. Stocks Widen Global Lead” https://t.co/Snhv08ulcO\n",
      "\n",
      "The U.S. is respected again! https://t.co/NtQ4vsoqnk\n",
      "\n",
      "If the U.S. sells a car into China, there is a tax of 25%. If China sells a car into the U.S., there is a tax of 2%. Does anybody think that is FAIR? The days of the U.S. being ripped-off by other nations is OVER!\n",
      "\n",
      "Iranian Harassment of U.S. Warships:\n",
      "\n",
      "2015: 22\n",
      "2016: 36\n",
      "2017: 14\n",
      "2018: 0\n",
      "\n",
      "Source: @USNavy\n",
      "\n",
      "GOD BLESS THE U.S.A.! https://t.co/n9OkDlqz11\n",
      "\n",
      "GOD BLESS THE U.S.A.! #MAGA???? https://t.co/pquqyy5S3G\n",
      "\n",
      "“Ford has abruptly killed a plan to sell a Chinese-made small vehicle in the U.S. because of the prospect of higher U.S. Tariffs.” CNBC.  This is just the beginning. This car can now be BUILT IN THE U.S.A. and Ford will pay no tariffs!\n",
      "\n",
      "“Manufacturing in U.S. Expands at Fastest Pace Since May 2004” https://t.co/XZkwS8tTml\n",
      "\n",
      "China has agreed to reduce and remove tariffs on cars coming into China from the U.S. Currently the tariff is 40%.\n",
      "\n",
      "If the E.U. wants to further increase their already massive tariffs and barriers on U.S. companies doing business there, we will simply apply a Tax on their Cars which freely pour into the U.S. They make it impossible for our cars (and more) to sell there. Big trade imbalance!\n",
      "\n"
     ]
    }
   ],
   "source": [
    "# does trump ever talk about cars..?\n",
    "q = \"car automobile vehicle\"\n",
    "dim = 10\n",
    "topK = 10\n",
    "idxs = query(dim, q, topK)\n",
    "\n",
    "# print the closest matches\n",
    "for idx in idxs:\n",
    "    print(text_tweets[\"text\"][idx])\n",
    "    print()"
   ]
  },
  {
   "cell_type": "code",
   "execution_count": 17,
   "metadata": {
    "scrolled": true
   },
   "outputs": [
    {
     "name": "stdout",
     "output_type": "stream",
     "text": [
      "['car', 'automobil', 'vehicl']\n",
      "\n",
      "“Ford has abruptly killed a plan to sell a Chinese-made small vehicle in the U.S. because of the prospect of higher U.S. Tariffs.” CNBC.  This is just the beginning. This car can now be BUILT IN THE U.S.A. and Ford will pay no tariffs!\n",
      "\n",
      "If the U.S. sells a car into China, there is a tax of 25%. If China sells a car into the U.S., there is a tax of 2%. Does anybody think that is FAIR? The days of the U.S. being ripped-off by other nations is OVER!\n",
      "\n",
      "“U.S. Stocks Widen Global Lead” https://t.co/Snhv08ulcO\n",
      "\n",
      "The U.S. is respected again! https://t.co/NtQ4vsoqnk\n",
      "\n",
      "Iranian Harassment of U.S. Warships:\n",
      "\n",
      "2015: 22\n",
      "2016: 36\n",
      "2017: 14\n",
      "2018: 0\n",
      "\n",
      "Source: @USNavy\n",
      "\n",
      "Canada charges the U.S. a 270%  tariff on Dairy Products! They didn’t tell you that, did they? Not fair to our farmers!\n",
      "\n",
      "Secretary of Commerce Wilbur Ross will be speaking with representatives of the European Union about eliminating the large Tariffs and Barriers they use against the U.S.A. Not fair to our farmers and manufacturers.\n",
      "\n",
      "“Manufacturing in U.S. Expands at Fastest Pace Since May 2004” https://t.co/XZkwS8tTml\n",
      "\n",
      "GOD BLESS THE U.S.A.! https://t.co/n9OkDlqz11\n",
      "\n",
      "GOD BLESS THE U.S.A.! #MAGA???? https://t.co/pquqyy5S3G\n",
      "\n"
     ]
    }
   ],
   "source": [
    "# does trump ever talk about cars..?\n",
    "q = \"car automobile vehicle\"\n",
    "dim = 20\n",
    "topK = 10\n",
    "idxs = query(dim, q, topK)\n",
    "\n",
    "# print the closest matches\n",
    "for idx in idxs:\n",
    "    print(text_tweets[\"text\"][idx])\n",
    "    print()"
   ]
  },
  {
   "cell_type": "code",
   "execution_count": 19,
   "metadata": {},
   "outputs": [
    {
     "name": "stdout",
     "output_type": "stream",
     "text": [
      "['car', 'automobil', 'vehicl']\n",
      "\n",
      "Sergio Marchionne, who passed away today, was one of the most brilliant &amp; successful car executives since the days of the legendary Henry Ford. It was a great honor for me to get to know Sergio as POTUS, he loved the car industry, and fought hard for it. He will be truly missed!\n",
      "\n",
      "If the E.U. wants to further increase their already massive tariffs and barriers on U.S. companies doing business there, we will simply apply a Tax on their Cars which freely pour into the U.S. They make it impossible for our cars (and more) to sell there. Big trade imbalance!\n",
      "\n",
      "If the U.S. sells a car into China, there is a tax of 25%. If China sells a car into the U.S., there is a tax of 2%. Does anybody think that is FAIR? The days of the U.S. being ripped-off by other nations is OVER!\n",
      "\n",
      "The reason that the small truck business in the U.S. is such a go to favorite is that, for many years, Tariffs of 25% have been put on small trucks coming into our country. It is called the “chicken tax.” If we did that with cars coming in, many more cars would be built here.....\n",
      "\n",
      "“Ford has abruptly killed a plan to sell a Chinese-made small vehicle in the U.S. because of the prospect of higher U.S. Tariffs.” CNBC.  This is just the beginning. This car can now be BUILT IN THE U.S.A. and Ford will pay no tariffs!\n",
      "\n",
      "When a car is sent to the United States from China, there is a Tariff to be paid of 2 1/2%. When a car is sent to China from the United States, there is a Tariff to be paid of 25%. Does that sound like free or fair trade.  No, it sounds like STUPID TRADE -  going on for years!\n",
      "\n",
      "China has agreed to reduce and remove tariffs on cars coming into China from the U.S. Currently the tariff is 40%.\n",
      "\n",
      "My thoughts and prayers are with Representative Katie Arrington of South Carolina, including all of those involved in last nights car accident, and their families. https://t.co/rWYt2VBjxc\n",
      "\n",
      "....for electric cars. General Motors made a big China bet years ago when they built plants there (and in Mexico) - don’t think that bet is going to pay off. I am here to protect America’s Workers!\n",
      "\n",
      "....We are finishing our study of Tariffs on cars from the E.U. in that they have long taken advantage of the U.S. in the form of Trade Barriers and Tariffs. In the end it will all even out - and it won’t take very long!\n",
      "\n"
     ]
    }
   ],
   "source": [
    "# does trump ever talk about cars..?\n",
    "q = \"car automobile vehicle\"\n",
    "dim = 1000\n",
    "topK = 10\n",
    "idxs = query(dim, q, topK)\n",
    "\n",
    "# print the closest matches\n",
    "for idx in idxs:\n",
    "    print(text_tweets[\"text\"][idx])\n",
    "    print()"
   ]
  },
  {
   "cell_type": "code",
   "execution_count": 26,
   "metadata": {},
   "outputs": [
    {
     "name": "stdout",
     "output_type": "stream",
     "text": [
      "['I', 'am', 'so', 'great', 'and', 'incred']\n",
      "Ignoring word 'I'\n",
      "Ignoring word 'am'\n",
      "Ignoring word 'so'\n",
      "Ignoring word 'and'\n",
      "\n",
      ".@seanhannity on @foxandfriends now! Great! 8:18 A.M.\n",
      "\n",
      "Great couple, great book! https://t.co/cLDI79rin8\n",
      "\n",
      "Incredible to be with our GREAT HEROES today in California. We will always be with you! https://t.co/B1MCTF83Zf\n",
      "\n",
      "Gina is Great! https://t.co/TyLQ2W42y5\n",
      "\n",
      "Great #StateDinner2018 in Ohio tonight! Together, we are MAKING AMERICA GREAT AGAIN! https://t.co/ALU1PHEsvh\n",
      "\n",
      "Our Country is doing GREAT. Best financial numbers on the Planet. Great to have USA WINNING AGAIN!\n",
      "\n",
      "Great photo from Ocean City, Maryland. Thank you. MAKE AMERICA GREAT AGAIN! https://t.co/kILZz31yDJ\n",
      "\n",
      "A great First Lady! https://t.co/Pt35aluI4C\n",
      "\n",
      "....@NASCAR and Champion @MartinTruex_Jr were recently at the White House. It was a great day for a great sport!\n",
      "\n",
      "Thank you to all of the incredible law enforcement officers and firefighters in Bethpage, New York. Keep up the great work! https://t.co/SMaZ8Hfas4\n",
      "\n"
     ]
    }
   ],
   "source": [
    "# find tweets that could look similar to this one\n",
    "q = \"I am so great and incredible\"\n",
    "dim = 2000\n",
    "topK = 10\n",
    "idxs = query(dim, q, topK)\n",
    "\n",
    "# print the closest matches\n",
    "for idx in idxs:\n",
    "    print(text_tweets[\"text\"][idx])\n",
    "    print()"
   ]
  },
  {
   "cell_type": "code",
   "execution_count": 29,
   "metadata": {},
   "outputs": [
    {
     "name": "stdout",
     "output_type": "stream",
     "text": [
      "['trump', 'great', 'incred', 'perfect', 'best', 'good']\n",
      "\n",
      ".@seanhannity on @foxandfriends now! Great! 8:18 A.M.\n",
      "\n",
      "Our Country is doing GREAT. Best financial numbers on the Planet. Great to have USA WINNING AGAIN!\n",
      "\n",
      "Great couple, great book! https://t.co/cLDI79rin8\n",
      "\n",
      "Incredible to be with our GREAT HEROES today in California. We will always be with you! https://t.co/B1MCTF83Zf\n",
      "\n",
      "Good (Great) meeting in the Oval Office tonight with the NRA!\n",
      "\n",
      "“Trump the orator outlines the greatness of America to Democrats’ disgust” https://t.co/XpirrtTY6V\n",
      "\n",
      "Great to have our incredible First Lady back home in the White House. Melania is feeling and doing really well. Thank you for all of your prayers and best wishes!\n",
      "\n",
      "A productive dialogue is not only good for the United States and good for Russia, but it is good for the world. #HELSINKI2018 https://t.co/Q2Y1PhM9au\n",
      "\n",
      "Great to have our incredible First Lady back home in the White House. Melanie is feeling and doing really well. Thank you for all of your prayers and best wishes!\n",
      "\n",
      "Eric Trump on @JudgeJeanine on @FoxNews now!\n",
      "\n"
     ]
    }
   ],
   "source": [
    "# find tweets that could look similar to this one\n",
    "q = \" Trump great incredible perfect best good \"\n",
    "dim = 4000\n",
    "topK = 10\n",
    "idxs = query(dim, q, topK)\n",
    "\n",
    "# print the closest matches\n",
    "for idx in idxs:\n",
    "    print(text_tweets[\"text\"][idx])\n",
    "    print()"
   ]
  },
  {
   "cell_type": "code",
   "execution_count": 34,
   "metadata": {},
   "outputs": [
    {
     "name": "stdout",
     "output_type": "stream",
     "text": [
      "['To', 'all', 'the', 'littl', 'girl', 'watch', 'never', 'doubt', 'that', 'you', 'are', 'valuabl', 'and', 'power', '&', 'deserv', 'of', 'everi', 'chanc', '&', 'opportun', 'in', 'the', 'world', '.']\n",
      "Ignoring word 'To'\n",
      "Ignoring word 'all'\n",
      "Ignoring word 'the'\n",
      "Ignoring word 'that'\n",
      "Ignoring word 'you'\n",
      "Ignoring word 'are'\n",
      "Ignoring word 'valuable'\n",
      "Ignoring word 'and'\n",
      "Ignoring word '&'\n",
      "Ignoring word 'of'\n",
      "Ignoring word '&'\n",
      "Ignoring word 'in'\n",
      "Ignoring word 'the'\n",
      "Ignoring word '.'\n",
      "\n",
      "A Harley-Davidson should never be built in another country-never! Their employees and customers are already very angry at them. If they move, watch, it will be the beginning of the end - they surrendered, they quit! The Aura will be gone and they will be taxed like never before!\n",
      "\n",
      "If you meet every day with optimism – if you confront every obstacle with determination – if you refuse to give up, if you never quit, if you face every challenge with confidence and pride – then there is no goal you cannot achieve, and no dream beyond your reach! #YBLS2018 https://t.co/Uqmw5fLmxW\n",
      "\n",
      "Watch @seanhannity on @FoxNews NOW. Enjoy!\n",
      "\n",
      "Now this is a record that will never be broken! https://t.co/rtpLfvsBU5\n",
      "\n",
      ".@LindseyGrahamSC  “Every President deserves an Attorney General they have confidence in. I believe every President has a right to their Cabinet, these are not lifetime appointments. You serve at the pleasure of the President.”\n",
      "\n"
     ]
    }
   ],
   "source": [
    "#Comparing to a Hillary Clinton pinned tweet (she is obviously very proud of this one)\n",
    "q = \"To all the little girls watching never doubt that you are valuable and powerful & deserving of every chance & opportunity in the world .\"\n",
    "dim = 1000\n",
    "topK = 5\n",
    "idxs = query(dim, q, topK)\n",
    "\n",
    "# print the closest matches\n",
    "for idx in idxs:\n",
    "    print(text_tweets[\"text\"][idx])\n",
    "    print()"
   ]
  },
  {
   "cell_type": "code",
   "execution_count": 35,
   "metadata": {},
   "outputs": [
    {
     "name": "stdout",
     "output_type": "stream",
     "text": [
      "['To', 'all', 'the', 'littl', 'girl', 'watch', 'never', 'doubt', 'that', 'you', 'are', 'valuabl', 'and', 'power', '&', 'deserv', 'of', 'everi', 'chanc', '&', 'opportun', 'in', 'the', 'world', '.']\n",
      "Ignoring word 'To'\n",
      "Ignoring word 'all'\n",
      "Ignoring word 'the'\n",
      "Ignoring word 'that'\n",
      "Ignoring word 'you'\n",
      "Ignoring word 'are'\n",
      "Ignoring word 'valuable'\n",
      "Ignoring word 'and'\n",
      "Ignoring word '&'\n",
      "Ignoring word 'of'\n",
      "Ignoring word '&'\n",
      "Ignoring word 'in'\n",
      "Ignoring word 'the'\n",
      "Ignoring word '.'\n",
      "\n",
      "A Harley-Davidson should never be built in another country-never! Their employees and customers are already very angry at them. If they move, watch, it will be the beginning of the end - they surrendered, they quit! The Aura will be gone and they will be taxed like never before!\n",
      "\n",
      "If you meet every day with optimism – if you confront every obstacle with determination – if you refuse to give up, if you never quit, if you face every challenge with confidence and pride – then there is no goal you cannot achieve, and no dream beyond your reach! #YBLS2018 https://t.co/Uqmw5fLmxW\n",
      "\n",
      "Watch @seanhannity on @FoxNews NOW. Enjoy!\n",
      "\n",
      ".@LindseyGrahamSC  “Every President deserves an Attorney General they have confidence in. I believe every President has a right to their Cabinet, these are not lifetime appointments. You serve at the pleasure of the President.”\n",
      "\n",
      "While CNN doesn’t do great in the United States based on ratings, outside of the U.S. they have very little competition. Throughout the world, CNN has a powerful voice portraying the United States in an unfair....\n",
      "\n"
     ]
    }
   ],
   "source": [
    "#Comparing to a Hillary Clinton pinned tweet (she is obviously very proud of this one)\n",
    "q = \"To all the little girls watching never doubt that you are valuable and powerful & deserving of every chance & opportunity in the world .\"\n",
    "dim = 4500\n",
    "topK = 5\n",
    "idxs = query(dim, q, topK)\n",
    "\n",
    "# print the closest matches\n",
    "for idx in idxs:\n",
    "    print(text_tweets[\"text\"][idx])\n",
    "    print()"
   ]
  },
  {
   "cell_type": "code",
   "execution_count": 36,
   "metadata": {},
   "outputs": [
    {
     "name": "stdout",
     "output_type": "stream",
     "text": [
      "['my', 'car', 'is', 'park', 'by', 'the', 'wall']\n",
      "Ignoring word 'my'\n",
      "Ignoring word 'is'\n",
      "Ignoring word 'by'\n",
      "Ignoring word 'the'\n",
      "\n",
      "This isn’t about the Wall, everybody knows that a Wall will work perfectly (In Israel the Wall works 99.9%). This is only about the Dems not letting Donald Trump &amp; the Republicans have a win. They may have the 10 Senate votes, but we have the issue, Border Security. 2020!\n",
      "\n",
      ".....on a Border is only effective in conjunction with a Wall. Properly designed and built Walls work, and the Democrats are lying when they say they don’t. In Israel the Wall is 99.9% successful. Will not be any different on our Southern Border! Hundreds of $Billions saved!\n",
      "\n",
      "We need the Wall for the safety and security of our country. We need the Wall to help stop the massive inflow of drugs from Mexico, now rated the number one most dangerous country in the world. If there is no Wall, there is no Deal!\n",
      "\n",
      "The Wall is different than the 25 Billion Dollars in Border Security. The complete Wall will be built with the Shutdown money plus funds already in hand. The reporting has been inaccurate on the point. The problem is, without the Wall, much of the rest of Dollars are wasted!\n",
      "\n",
      "Heading to see the BORDER WALL prototypes in California! https://t.co/fU6Ukc271l\n",
      "\n",
      "Arizona, together with our Military and Border Patrol, is bracing for a massive surge at a NON-WALLED area. WE WILL NOT LET THEM THROUGH. Big danger. Nancy and Chuck must approve Boarder Security and the Wall!\n",
      "\n",
      "Tremendous pressure is building, like never before, for the Border Wall and an end to crime cradling Sanctuary Cities. Started the Wall in San Diego, where the people were pushing really hard to get it. They will soon be protected!\n",
      "\n",
      "I have decided that sections of the Wall that California wants built NOW will not be built until the whole Wall is approved. Big victory yesterday with ruling from the courts that allows us to proceed. OUR COUNTRY MUST HAVE BORDER SECURITY!\n",
      "\n",
      "The only way to stop drugs, gangs, human trafficking, criminal elements and much else from coming into our Country is with a Wall or Barrier. Drones and all of the rest are wonderful and lots of fun, but it is only a good old fashioned Wall that works!\n",
      "\n",
      "....People do not yet realize how much of the Wall, including really effective renovation, has already been built. If the Democrats do not give us the votes to secure our Country, the Military will build the remaining sections of the Wall. They know how important it is!\n",
      "\n"
     ]
    }
   ],
   "source": [
    "# find tweets that could look similar to this one\n",
    "q = \" my car is parked by the wall\"\n",
    "dim = 2000\n",
    "topK = 10\n",
    "idxs = query(dim, q, topK)\n",
    "\n",
    "# print the closest matches\n",
    "for idx in idxs:\n",
    "    print(text_tweets[\"text\"][idx])\n",
    "    print()"
   ]
  },
  {
   "cell_type": "code",
   "execution_count": 38,
   "metadata": {},
   "outputs": [
    {
     "name": "stdout",
     "output_type": "stream",
     "text": [
      "['my', 'car', 'is', 'park', 'by', 'the', 'wall']\n",
      "Ignoring word 'my'\n",
      "Ignoring word 'is'\n",
      "Ignoring word 'by'\n",
      "Ignoring word 'the'\n",
      "\n",
      "This isn’t about the Wall, everybody knows that a Wall will work perfectly (In Israel the Wall works 99.9%). This is only about the Dems not letting Donald Trump &amp; the Republicans have a win. They may have the 10 Senate votes, but we have the issue, Border Security. 2020!\n",
      "\n",
      ".....on a Border is only effective in conjunction with a Wall. Properly designed and built Walls work, and the Democrats are lying when they say they don’t. In Israel the Wall is 99.9% successful. Will not be any different on our Southern Border! Hundreds of $Billions saved!\n",
      "\n",
      "We need the Wall for the safety and security of our country. We need the Wall to help stop the massive inflow of drugs from Mexico, now rated the number one most dangerous country in the world. If there is no Wall, there is no Deal!\n",
      "\n",
      "The Wall is different than the 25 Billion Dollars in Border Security. The complete Wall will be built with the Shutdown money plus funds already in hand. The reporting has been inaccurate on the point. The problem is, without the Wall, much of the rest of Dollars are wasted!\n",
      "\n",
      "Arizona, together with our Military and Border Patrol, is bracing for a massive surge at a NON-WALLED area. WE WILL NOT LET THEM THROUGH. Big danger. Nancy and Chuck must approve Boarder Security and the Wall!\n",
      "\n"
     ]
    }
   ],
   "source": [
    "# find tweets that could look similar to this one\n",
    "q = \" my car is parked by the wall\"\n",
    "dim = 4000\n",
    "topK = 5\n",
    "idxs = query(dim, q, topK)\n",
    "\n",
    "# print the closest matches\n",
    "for idx in idxs:\n",
    "    print(text_tweets[\"text\"][idx])\n",
    "    print()"
   ]
  },
  {
   "cell_type": "code",
   "execution_count": 40,
   "metadata": {},
   "outputs": [
    {
     "name": "stdout",
     "output_type": "stream",
     "text": [
      "['michel', 'and', 'I', 'send', 'our', 'condol', 'to', 'the', 'peopl', 'of', 'new', 'zealand', '.', 'We', 'griev', 'with', 'you', 'and', 'the', 'muslim', 'commun', '.', 'all', 'of', 'us', 'must', 'stand', 'against', 'hatr', 'in', 'all', 'it', 'form', '.']\n",
      "Ignoring word 'and'\n",
      "Ignoring word 'I'\n",
      "Ignoring word 'our'\n",
      "Ignoring word 'to'\n",
      "Ignoring word 'the'\n",
      "Ignoring word 'of'\n",
      "Ignoring word 'Zealand'\n",
      "Ignoring word '.'\n",
      "Ignoring word 'We'\n",
      "Ignoring word 'with'\n",
      "Ignoring word 'you'\n",
      "Ignoring word 'and'\n",
      "Ignoring word 'the'\n",
      "Ignoring word 'Muslim'\n",
      "Ignoring word '.'\n",
      "Ignoring word 'All'\n",
      "Ignoring word 'of'\n",
      "Ignoring word 'against'\n",
      "Ignoring word 'in'\n",
      "Ignoring word 'all'\n",
      "Ignoring word 'its'\n",
      "Ignoring word '.'\n",
      "\n",
      "Mexico, whose laws on immigration are very tough, must stop people from going through Mexico and into the U.S. We may make this a condition of the new NAFTA Agreement. Our Country cannot accept what is happening! Also, we must get Wall funding fast.\n",
      "\n",
      "We send our deepest condolences to Lou and the entire Barletta family - he has been working so hard despite this terrible situation for the people of Pennsylvania. Our thoughts and prayers are with you Lou!\n",
      "\n",
      "The NFL National Anthem Debate is alive and well again - can’t believe it! Isn’t it in contract that players must stand at attention, hand on heart? The $40,000,000 Commissioner must now make a stand. First time kneeling, out for game. Second time kneeling, out for season/no pay!\n",
      "\n",
      "If we don’t have a wall system, we’re not going to have a country. Congress must fund the BORDER WALL &amp; prohibit grants to sanctuary jurisdictions that threaten the security of our country &amp; the people of our country. We must enforce our laws &amp; protect our people! #BuildTheWall https://t.co/NGqNueukvj\n",
      "\n",
      "We must have Security at our VERY DANGEROUS SOUTHERN BORDER, and we must have a great WALL to help protect us, and to help stop the massive inflow of drugs pouring into our country!\n",
      "\n",
      "I, as President, want people coming into our Country who are going to help us become strong and great again, people coming in through a system based on MERIT. No more Lotteries! #AMERICA FIRST\n",
      "\n",
      ".....Country being forced to endure a long and costly trial. Tell the people “OUT,” and they must leave, just as they would if they were standing on your front lawn. Hiring thousands of “judges” does not work and is not acceptable - only Country in the World that does this!\n",
      "\n",
      "Just out — in Arizona, SIGNATURES DON’T MATCH. Electoral corruption - Call for a new Election? We must protect our Democracy!\n",
      "\n",
      "Brad Blakeman: “The American people understand that we have been played by foreign actors who would rather have us fight their battles for them. The Pesident says look, this is your neighborhood, you’ve got to stand up to protect yourselves. Don’t always look to America.”\n",
      "\n",
      "Brad Blakeman: “The American people understand that we have been played by foreign actors who would rather have us fight their battles for them. The President says look, this is your neighborhood, you’ve got to stand up to protect yourselves. Don’t always look to America.”\n",
      "\n"
     ]
    }
   ],
   "source": [
    "# find tweets that could look similar to this one\n",
    "q = \" Michelle and I send our condolences to the people of New Zealand . We grieve with you and the Muslim community . All of us must stand against hatred in all its forms .\"\n",
    "dim = 4000\n",
    "topK = 10\n",
    "idxs = query(dim, q, topK)\n",
    "\n",
    "# print the closest matches\n",
    "for idx in idxs:\n",
    "    print(text_tweets[\"text\"][idx])\n",
    "    print()"
   ]
  },
  {
   "cell_type": "code",
   "execution_count": null,
   "metadata": {},
   "outputs": [],
   "source": []
  }
 ],
 "metadata": {
  "kernelspec": {
   "display_name": "Python 3",
   "language": "python",
   "name": "python3"
  },
  "language_info": {
   "codemirror_mode": {
    "name": "ipython",
    "version": 3
   },
   "file_extension": ".py",
   "mimetype": "text/x-python",
   "name": "python",
   "nbconvert_exporter": "python",
   "pygments_lexer": "ipython3",
   "version": "3.6.4"
  }
 },
 "nbformat": 4,
 "nbformat_minor": 2
}
