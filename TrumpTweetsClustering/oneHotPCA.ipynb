{
 "cells": [
  {
   "cell_type": "code",
   "execution_count": 11,
   "metadata": {},
   "outputs": [],
   "source": [
    "from sklearn.cluster import KMeans, DBSCAN\n",
    "from sklearn.decomposition import PCA\n",
    "import matplotlib.pyplot as plt\n",
    "import numpy as np\n",
    "import random\n",
    "import pandas\n",
    "import math\n",
    "\n",
    "# make this point to the file with the clean tweets\n",
    "DATAFILE = \"data_clean_new.csv\"\n",
    "# make this point to the file with the text tweets\n",
    "TWEETSFILE = \"data_original.csv\""
   ]
  },
  {
   "cell_type": "code",
   "execution_count": 5,
   "metadata": {},
   "outputs": [
    {
     "name": "stdout",
     "output_type": "stream",
     "text": [
      "We have 53640 words, of which 4819 are unique\n",
      "[('great', 832), ('amp', 485), ('peopl', 433), ('countri', 410), ('border', 351), ('democrat', 342), ('get', 308), ('state', 303), ('presid', 299), ('u', 292)]\n"
     ]
    }
   ],
   "source": [
    "# import the tweets\n",
    "text_tweets = pandas.read_csv(TWEETSFILE, index_col=0)\n",
    "# read the csv\n",
    "data = pandas.read_csv(DATAFILE, index_col=0)\n",
    "# get all the tweets\n",
    "# as of now, they are still strings, the string representation of the list\n",
    "tweets = []\n",
    "for tweet in data[\"text\"]:\n",
    "    tweets.append(eval(tweet))\n",
    "    \n",
    "# find all unique words and count them\n",
    "uniqueWords = {}\n",
    "total_words = 0\n",
    "for tweet in tweets:\n",
    "    for word in tweet:\n",
    "        total_words += 1\n",
    "        if word in uniqueWords.keys():\n",
    "            uniqueWords[word] += 1\n",
    "        else:\n",
    "            uniqueWords[word] = 1\n",
    "print(f\"We have {total_words} words, of which {len(uniqueWords.keys())} are unique\")\n",
    "words_tuples = [(word, uniqueWords[word]) for word in uniqueWords.keys()]\n",
    "words_tuples.sort(reverse=True, key=lambda t: t[1])\n",
    "print(words_tuples[0:10])"
   ]
  },
  {
   "cell_type": "code",
   "execution_count": 6,
   "metadata": {},
   "outputs": [],
   "source": [
    "# create the one-hot encoding of each tweet\n",
    "# start by fixing some ordering of the words\n",
    "orderedWords = uniqueWords.keys()\n",
    "mat = []\n",
    "for tweet in tweets:\n",
    "    one_hot_enc = []\n",
    "    for word in orderedWords:\n",
    "        one_hot_enc.append(tweet.count(word)) # most of these will be 0s\n",
    "    mat.append(one_hot_enc)"
   ]
  },
  {
   "cell_type": "code",
   "execution_count": 38,
   "metadata": {},
   "outputs": [],
   "source": [
    "# get a more time-efficient (but more memory-consuming) way of retrieving\n",
    "# the different PCAs, for different numbers of components:\n",
    "def get_pca(n):\n",
    "    cached = get_pca.memory.get(n, None)\n",
    "    if cached is not None:\n",
    "        return cached\n",
    "    else:\n",
    "        pca = PCA(n_components = n, random_state=3534)\n",
    "        reduced = pca.fit_transform(mat)\n",
    "        get_pca.memory[n] = reduced\n",
    "        return reduced\n",
    "get_pca.memory = dict()"
   ]
  },
  {
   "cell_type": "code",
   "execution_count": 40,
   "metadata": {},
   "outputs": [
    {
     "name": "stdout",
     "output_type": "stream",
     "text": [
      "[1438, 567, 251, 164, 213, 139, 88, 175]\n",
      "1083 - What was Nike thinking?\n",
      "628 - Republicans will totally protect people with Pre-Existing Conditions, Democrats will not! Vote Republican.\n",
      "820 - Women for Kavanaugh, and many others who support this very good man, are gathering all over Capital Hill in preparation for a 3-5 P.M. VOTE. It is a beautiful thing to see - and they are not paid professional protesters who are handed expensive signs. Big day for America!\n",
      "1058 - The GDP Rate (4.2%) is higher than the Unemployment Rate (3.9%) for the first time in over 100 years!\n",
      "1546 - https://t.co/E3xvdUGZqa\n",
      "----------------------------------------\n",
      "2003 - ....Germany pays 1% (slowly) of GDP towards NATO, while we pay 4% of a MUCH larger GDP. Does anybody believe that makes sense? We protect Europe (which is good) at great financial loss, and then get unfairly clobbered on Trade. Change is coming!\n",
      "1563 - The Remains of American Servicemen will soon be leaving North Korea and heading to the United States! After so many years, this will be a great moment for so many families. Thank you to Kim Jong Un.\n",
      "1522 - Thank you to @RandPaul for your YES on a future great Justice of the Supreme Court, Brett Kavanaugh. Your vote means a lot to me, and to everyone who loves our Country!\n",
      "801 - Great evening last night at the White House honoring Justice Kavanaugh and family. Our country is very proud of them!\n",
      "1696 - A very nice note from Chairman Kim of North Korea. Great progress being made! https://t.co/6NI6AqL0xt\n",
      "----------------------------------------\n",
      "1164 - The Rigged Russia Witch Hunt did not come into play, even a little bit, with respect to my decision on Don McGahn!\n",
      "1376 - Lou Dobbs: “This cannot go forward...this Special Councel with all of his conflicts, with his 17 Angry Democrats, without any evidence of collusion by the Trump Campaign and Russia. The Dems are the ones who should be investigated.” Thank you Lou, so true!\n",
      "2075 - What is taking so long with the Inspector General’s Report on Crooked Hillary and Slippery James Comey. Numerous delays. Hope Report is not being changed and made weaker! There are so many horrible things to tell, the public has the right to know. Transparency!\n",
      "1532 - ....Also, why is Mueller only appointing Angry Dems, some of whom have worked for Crooked Hillary, others, including himself, have worked for Obama....And why isn’t Mueller looking at all of the criminal activity &amp; real Russian Collusion on the Democrats side-Podesta, Dossier?\n",
      "139 - Remember, Michael Cohen only became a “Rat” after the FBI did something which was absolutely unthinkable &amp; unheard of until the Witch Hunt was illegally started. They BROKE INTO AN ATTORNEY’S OFFICE! Why didn’t they break into the DNC to get the Server, or Crooked’s office?\n",
      "----------------------------------------\n",
      "2007 - PM Justin Trudeau of Canada acted so meek and mild during our @G7 meetings only to give a news conference after I left saying that, “US Tariffs were kind of insulting” and he “will not be pushed around.” Very dishonest &amp; weak. Our Tariffs are in response to his of 270% on dairy!\n",
      "670 - Ron @RonDeSantisFL DeSantis is working hard. A great Congressman and top student at Harvard &amp; Yale, Ron will be a record setting governor for Florida. Rick Scott gave him tremendous foundations to further build on. His opponent runs one of the worst &amp; most corrupt cities in USA!\n",
      "3007 - The so-called bipartisan DACA deal presented yesterday to myself and a group of Republican Senators and Congressmen was a big step backwards. Wall was not properly funded, Chain &amp; Lottery were made worse and USA would be forced to take large numbers of people from high crime.....\n",
      "253 - “Michael Cohen asks judge for no Prison Time.” You mean he can do all of the TERRIBLE, unrelated to Trump, things having to do with fraud, big loans, Taxis, etc., and not serve a long prison term? He makes up stories to get a GREAT &amp; ALREADY reduced deal for himself, and get.....\n",
      "2156 - When will the 13 Angry Democrats (&amp; those who worked for President O), reveal their disqualifying Conflicts of Interest? It’s been a long time now! Will they be indelibly written into the Report along with the fact that the only Collusion is with the Dems, Justice, FBI &amp; Russia?\n",
      "----------------------------------------\n",
      "1774 - Many Democrats are deeply concerned about the fact that their “leadership” wants to denounce and abandon the great men and women of ICE, thereby declaring war on Law &amp; Order. These people will be voting for Republicans in November and, in many cases, joining the Republican Party!\n",
      "2469 - Looks like Jerry Brown and California are not looking for safety and security along their very porous Border. He cannot come to terms for the National Guard to patrol and protect the Border. The high crime rate will only get higher. Much wanted Wall in San Diego already started!\n",
      "2182 - It was my great honor to host a roundtable re: MS-13 yesterday in Bethpage, New York. Democrats must abandon their resistance to border security so that we can SUPPORT law enforcement and SAVE innocent lives! https://t.co/pxe9Z4efyZ\n",
      "2320 - We are going to demand Congress secure the border in the upcoming CR. Illegal immigration must end!\n",
      "2838 - ...lottery, continues deadly catch-and-release, and bars enforcement even for FUTURE illegal immigrants. Voting for this amendment would be a vote AGAINST law enforcement, and a vote FOR open borders. If Dems are actually serious about DACA, they should support the Grassley bill!\n",
      "----------------------------------------\n",
      "2269 - ZTE, the large Chinese phone company, buys a big percentage of individual parts from U.S. companies. This is also reflective of the larger trade deal we are negotiating with China and my personal relationship with President Xi.\n",
      "1700 - ....On top of it all, Germany just started paying Russia, the country they want protection from, Billions of Dollars for their Energy needs coming out of a new pipeline from Russia. Not acceptable! All NATO Nations must meet their 2% commitment, and that must ultimately go to 4%!\n",
      "450 - Received so many Congratulations from so many on our Big Victory last night, including from foreign nations (friends) that were waiting me out, and hoping, on Trade Deals. Now we can all get back to work and get things done!\n",
      "1130 - Happy Labor Day! Our country is doing better than ever before with unemployment setting record lows. The U.S. has tremendous upside potential as we go about fixing some of the worst Trade Deals ever made by any country in the world. Big progress being made!\n",
      "2534 - The United States hasn’t had a Trade Surplus with China in 40 years. They must end unfair trade, take down barriers and charge only Reciprocal Tariffs. The U.S. is losing $500 Billion a year, and has been losing Billions of Dollars for decades. Cannot continue!\n",
      "----------------------------------------\n",
      "1465 - Troy Balderson, running for Congress from Ohio, is in a big Election fight with a candidate who just got caught lying about his relationship with Nancy Pelosi, who is weak on Crime, Borders &amp; your 2nd Amendment-and wants to raise your Taxes (by a lot). Vote for Troy on Tuesday!\n",
      "1861 - ...everyone how much he likes me, but he will only vote with Nancy Pelosi. Keith is strong on borders and tough on crime — and loves cutting taxes! #MAGA\n",
      "1557 - ...John is strong on crime and borders, loves our Military, our Vets and our Second Amendment. He will be a star. He has my full and total Endorsement!\n",
      "556 - Congressman Kevin Brady of Texas is so popular in his District, and far beyond, that he doesn’t need any help - but I am giving it to him anyway. He is a great guy and the absolute “King” of Cutting Taxes. Highly respected by all, he loves his State &amp; Country. Strong Endorsement!\n",
      "1969 - Congratulations to @KevinCramer on his huge win in North Dakota. We need Kevin in the Senate, and I strongly endorse him. Heidi voted NO on our Tax Cuts, and always will vote no when we need her. Kevin is strong on Crime &amp; Borders, big on Cutting Taxes!\n",
      "----------------------------------------\n",
      "1280 - Fake News, of which there is soooo much (this time the very tired New Yorker) falsely reported that I was going to take the extraordinary step of denying Intelligence Briefings to President Obama. Never discussed or thought of!\n",
      "571 - CNN and others in the Fake News Business keep purposely and inaccurately reporting that I said the “Media is the Enemy of the People.” Wrong! I said that the “Fake News (Media) is the Enemy of the People,” a very big difference. When you give out false information - not good!\n",
      "1511 - The Fake News Media is going CRAZY! They are totally unhinged and in many ways, after witnessing first hand the damage they do to so many innocent and decent people, I enjoy watching. In 7 years, when I am no longer in office, their ratings will dry up and they will be gone!\n",
      "2971 - And the FAKE NEWS winners are...\n",
      "https://t.co/59G6x2f7fD\n",
      "1549 - Democrats, who want Open Borders and care little about Crime, are incompetent, but they have the Fake News Media almost totally on their side!\n",
      "----------------------------------------\n"
     ]
    }
   ],
   "source": [
    "reduced = get_pca(20)\n",
    "# apply the KMeans algorithm to the reduced data\n",
    "kmeans = KMeans(random_state=73).fit(reduced)\n",
    "sk_clusters = [[] for i in range(max(kmeans.labels_+1))]\n",
    "for idx, lbl in enumerate(kmeans.labels_):\n",
    "    sk_clusters[lbl].append(idx)\n",
    "    \n",
    "print(list(map(len, sk_clusters)))\n",
    "\n",
    "random.seed(52345234)\n",
    "# take some random tweets from every cluster\n",
    "for cluster in sk_clusters:\n",
    "    some_tweet_idx = random.sample(cluster, 5)\n",
    "    for idx in some_tweet_idx:\n",
    "        print(str(idx) + \" - \" + text_tweets[\"text\"][idx])\n",
    "    print(\"-\"*40)"
   ]
  },
  {
   "cell_type": "code",
   "execution_count": 47,
   "metadata": {},
   "outputs": [
    {
     "name": "stdout",
     "output_type": "stream",
     "text": [
      "Using 5 PCA comps, got 1 clusters\n",
      "Cluster size has std dev 0.0\n",
      "Using 6 PCA comps, got 7 clusters\n",
      "Cluster size has std dev 908.5935531897412\n",
      "Using 7 PCA comps, got 11 clusters\n",
      "Cluster size has std dev 695.0778183439024\n",
      "Using 8 PCA comps, got 14 clusters\n",
      "Cluster size has std dev 577.9001617397035\n",
      "Using 9 PCA comps, got 15 clusters\n",
      "Cluster size has std dev 531.047853043605\n",
      "Using 10 PCA comps, got 14 clusters\n",
      "Cluster size has std dev 528.0810514862046\n",
      "Using 11 PCA comps, got 15 clusters\n",
      "Cluster size has std dev 431.5449249176987\n",
      "Using 12 PCA comps, got 14 clusters\n",
      "Cluster size has std dev 461.19490434730346\n",
      "Using 13 PCA comps, got 15 clusters\n",
      "Cluster size has std dev 456.37362860806155\n",
      "Using 14 PCA comps, got 12 clusters\n",
      "Cluster size has std dev 512.0425532989312\n",
      "Using 15 PCA comps, got 13 clusters\n",
      "Cluster size has std dev 505.66477423815616\n",
      "Using 16 PCA comps, got 12 clusters\n",
      "Cluster size has std dev 535.9487628392185\n",
      "Using 17 PCA comps, got 13 clusters\n",
      "Cluster size has std dev 530.9749545570523\n",
      "Using 18 PCA comps, got 15 clusters\n",
      "Cluster size has std dev 507.4939299034905\n",
      "Using 19 PCA comps, got 23 clusters\n",
      "Cluster size has std dev 418.15905838525225\n",
      "Using 20 PCA comps, got 22 clusters\n",
      "Cluster size has std dev 437.35823441043334\n"
     ]
    }
   ],
   "source": [
    "for ncomps in range(5, 21):\n",
    "    # use PCA to reduce the dimension\n",
    "    reduced = get_pca(ncomps)\n",
    "    # apply the DBSCAN algorithm to the reduced data\n",
    "    dbscan = DBSCAN().fit(reduced)\n",
    "    dbscan_clusters = [[] for i in range(max(dbscan.labels_+1))]\n",
    "    for idx, lbl in enumerate(dbscan.labels_):\n",
    "        dbscan_clusters[lbl].append(idx)\n",
    "\n",
    "    sizes = list(map(len, dbscan_clusters))\n",
    "    print(f\"Using {ncomps} PCA comps, got {len(dbscan_clusters)} clusters\")\n",
    "    print(f\"Cluster size has std dev {math.sqrt(np.var(sizes))}\")"
   ]
  },
  {
   "cell_type": "code",
   "execution_count": null,
   "metadata": {},
   "outputs": [],
   "source": []
  }
 ],
 "metadata": {
  "kernelspec": {
   "display_name": "Python 3",
   "language": "python",
   "name": "python3"
  },
  "language_info": {
   "codemirror_mode": {
    "name": "ipython",
    "version": 3
   },
   "file_extension": ".py",
   "mimetype": "text/x-python",
   "name": "python",
   "nbconvert_exporter": "python",
   "pygments_lexer": "ipython3",
   "version": "3.7.1"
  }
 },
 "nbformat": 4,
 "nbformat_minor": 2
}
