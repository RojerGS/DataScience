{
 "cells": [
  {
   "cell_type": "code",
   "execution_count": 35,
   "metadata": {},
   "outputs": [],
   "source": [
    "from sklearn.cluster import KMeans\n",
    "from sklearn.decomposition import PCA\n",
    "import matplotlib.pyplot as plt\n",
    "import numpy as np\n",
    "import random\n",
    "import pandas\n",
    "import math\n",
    "\n",
    "# make this point to the file with the clean tweets\n",
    "DATAFILE = \"data_clean.csv\""
   ]
  },
  {
   "cell_type": "code",
   "execution_count": 36,
   "metadata": {},
   "outputs": [
    {
     "name": "stdout",
     "output_type": "stream",
     "text": [
      "We have 60873 words, of which 7496 are unique\n",
      "[('amp', 528), ('people', 469), ('rt', 464), ('trump', 375), ('president', 367), ('country', 341), ('u', 306), ('democrats', 290), ('many', 283)]\n"
     ]
    }
   ],
   "source": [
    "# read the csv\n",
    "data = pandas.read_csv(DATAFILE, index_col=0)\n",
    "# get all the tweets\n",
    "# as of now, they are still strings, the string representation of the list\n",
    "tweets = []\n",
    "for tweet in data[\"text\"]:\n",
    "    tweets.append(eval(tweet))\n",
    "    \n",
    "# find all unique words and count them\n",
    "uniqueWords = {}\n",
    "total_words = 0\n",
    "for tweet in tweets:\n",
    "    for word in tweet:\n",
    "        total_words += 1\n",
    "        if word in uniqueWords.keys():\n",
    "            uniqueWords[word] += 1\n",
    "        else:\n",
    "            uniqueWords[word] = 1\n",
    "print(f\"We have {total_words} words, of which {len(uniqueWords.keys())} are unique\")\n",
    "words_tuples = [(word, uniqueWords[word]) for word in uniqueWords.keys()]\n",
    "words_tuples.sort(reverse=True, key=lambda t: t[1])\n",
    "print(words_tuples[1:10])"
   ]
  },
  {
   "cell_type": "code",
   "execution_count": 37,
   "metadata": {},
   "outputs": [],
   "source": [
    "# create the one-hot encoding of each tweet\n",
    "# start by fixing some ordering of the words\n",
    "orderedWords = uniqueWords.keys()\n",
    "mat = []\n",
    "for tweet in tweets:\n",
    "    one_hot_enc = []\n",
    "    for word in orderedWords:\n",
    "        one_hot_enc.append(tweet.count(word)) # most of these will be 0s\n",
    "    mat.append(one_hot_enc)"
   ]
  },
  {
   "cell_type": "code",
   "execution_count": 38,
   "metadata": {},
   "outputs": [],
   "source": [
    "# use PCA to reduce the dimension\n",
    "pca = PCA(n_components = 20, random_state=3534)\n",
    "reduced = pca.fit_transform(mat)"
   ]
  },
  {
   "cell_type": "code",
   "execution_count": 39,
   "metadata": {},
   "outputs": [
    {
     "data": {
      "text/plain": [
       "(3557, 20)"
      ]
     },
     "execution_count": 39,
     "metadata": {},
     "output_type": "execute_result"
    }
   ],
   "source": [
    "reduced.shape"
   ]
  },
  {
   "cell_type": "code",
   "execution_count": 40,
   "metadata": {},
   "outputs": [
    {
     "name": "stdout",
     "output_type": "stream",
     "text": [
      "[97, 181, 606, 1559, 208, 435, 275, 196]\n",
      "['congressman pete sessions texas great job fighter tough crime border fight hard second amendment loves military vets full complete endorsement']\n",
      "['paulsen love country great state minnesota winners always get job done need congress maga border military vets 2nd go vote minnesota strong endorsement']\n",
      "['congressman john faso new york worked hard smart strong crime borders 2nd amendment john respected vote john complete total endorsement']\n",
      "['congressman keith rothfus continues great job people pennsylvania keith strong crime border second amendment loves military vets total endorsement']\n",
      "['incredible people great state wyoming go vote today foster friess fantastic governor strong crime borders amp 2nd amendment loves military amp vets complete total endorsement']\n",
      "['governor doug ducey arizona great job would really nice show support tomorrow voting tuesdays primary doug strong crime border second amendment loves military amp vets full complete endorsement']\n",
      "['thank congressman kevin yoder secured 5 billion border security need congress support kevin strong crime border 2nd amendment loves military vets full total endorsement']\n",
      "['henry mcmaster done great job governor south carolina state booming jobs new industry setting records tough crime strong borders health care mititary great vets henry full complete endorsement maga']\n",
      "['5th district virginia popular guy really knows get job done really big help tax cuts military great vets total endorsement']\n",
      "['getting ready go stage matt rosendale great senator jon tester let people montana amp deserve another six years matt strong crime borders amp save second amendment onslaught loves military amp vets']\n",
      "----------------------------------------\n",
      "['money joint u south korea war games besides president instantly start joint exercises south korea japan chooses far bigger ever u china trade disputes']\n",
      "['united states penalized well tightening hurts done u allowed recapture lost due illegal currency manipulation bad trade deals debt coming due amp raising rates really']\n",
      "['losing side almost trade deals friends enemies taken advantage u many years steel aluminum industries dead sorry time change make america great']\n",
      "['president united states allow countries continue make massive trade surpluses decades farmers workers amp taxpayers big unfair price pay fair people america 800 billion trade deficit']\n",
      "['sad day amp night paris maybe time end ridiculous extremely expensive paris agreement return money back people form lower taxes u way ahead curve major country emissions went last year']\n",
      "['european union canada informing public years used massive trade tariffs non monetary trade barriers u totally unfair farmers workers amp companies take tariffs amp barriers match']\n",
      "['deficiencies mistakes nafta greatly opens markets farmers manufacturers reduces trade barriers u bring three great nations together competition rest world usmca historic transaction']\n",
      "['bush 1 present country lost 55 000 factories 6 000 000 manufacturing jobs accumulated trade deficits 12 trillion dollars last year trade deficit almost 800 billion dollars bad policies amp leadership must win maga']\n",
      "['cnn great united states based ratings outside u little competition throughout world cnn powerful voice portraying united states unfair']\n",
      "['u made bad trade deals many years win']\n",
      "----------------------------------------\n",
      "['today great honor welcome president mirziyoyev uzbekistan']\n",
      "['thank great republican senators showed mtg immigration reform must build wall stop illegal immigration end chain migration amp cancel visa lottery current system unsafe amp unfair great people country time change']\n",
      "['congratulations lou barletta pennsylvania great senator represent people well like represented many years lou friend mine special guy much help make america great']\n",
      "['today great honor welcome prime minister erna solberg norway great friend ally united states joint press conference']\n",
      "['congratulations bryan steil wonderful win last night replacing great guy paul ryan win november make entire state wisconsin proud complete total endorsement']\n",
      "['rt paulsen love country great state minnesota ar']\n",
      "['afternoon great honor present sergeant major john canley medal honor east room']\n",
      "['worked hard tax reductions illegal immigration border crime need jim badly help agenda keep making america great fantastic senator great state ohio full endorsement']\n",
      "['thank incredible law enforcement officers firefighters bethpage new york keep great work']\n",
      "['stop drugs want take money away military cannot standard simple america first amp make america great']\n",
      "----------------------------------------\n",
      "['elect republicans november pass finest fairest comprehensive immigration bills anywhere world right dumbest worst dems nothing obstructing remember motto resist produce']\n",
      "['today gathered diwali holiday observed buddhists sikhs jains throughout united states amp around world hundreds millions people gathered family amp friends light diya mark beginning new year']\n",
      "['russia china playing currency devaluation game u keeps raising interest rates acceptable']\n",
      "['fema military first responders unbelievable disaster good job total lie everybody knows']\n",
      "['paul ryan focusing holding majority rather giving opinions birthright citizenship something knows nothing new republican majority work closing immigration loopholes securing border']\n",
      "['richard trumka head afl cio represented union poorly television weekend things said working men women country success u easy see unions poorly dem']\n",
      "['consumer confidence february highest since november 2000']\n",
      "['nasdaq gone 8000 first time history']\n",
      "['princess eugenie york truly beautiful bride yesterday much come total winner']\n",
      "['worker america better ever celebrate labor day']\n",
      "----------------------------------------\n",
      "['please understand consequences people cross border illegally whether children many using children sinister purposes congress must act fixing dumbest amp worst immigration laws anywhere world vote r']\n",
      "['countries badly want merit based system immigration people help take country next level want safety security people want stop massive inflow drugs want fund military dem defund']\n",
      "['thank brandon judd national border patrol council strong statement badly need wall must also end loophole catch amp release clean legal procedures border safety amp security reasons']\n",
      "['homeland security fabulous job yesterday press conference explaining security border country time recommending changes obsolete amp nasty laws force family separation want heart security america']\n",
      "['vote democrats november vote let ms 13 run wild communities let drugs pour cities take jobs benefits away hardworking americans democrats want anarchy amnesty chaos republicans want law order justice']\n",
      "['hiring judges thousands ridiculous immigration laws demand changing laws building wall hire border agents ice let people come country based legal phrase told say password']\n",
      "['administration acting swiftly address illegal immigration crisis southern border loopholes immigration laws supported extremist open border democrats extremist open border democrats']\n",
      "['deaths children others border strictly fault democrats pathetic immigration policies allow people make long trek thinking enter country illegally wall even try two']\n",
      "['want take moment address current illegal immigration crisis southern border going many many decades']\n",
      "['congress must pass smart fast reasonable immigration laws law enforcement border great job laws forced work insane people without children enter country must told leave without']\n",
      "----------------------------------------\n",
      "['rt always incredibly proud work raising 16 3 million dollars last 10 years 9 2']\n",
      "['rt fisa abuse christopher steele amp phony corrupt dossier clinton foundation illegal surveillance tr']\n",
      "['rt']\n",
      "['rt ice says seized 43m worth counterfeit items laredo texas']\n",
      "['rt need people west virginia send message chuck schumer maxine waters nancy pelosi radical dem']\n",
      "['rt democrats congress must longer obstruct vote fix terrible immigration laws watching g']\n",
      "['rt thank kenya']\n",
      "['rt president traveling california meet impacted devastating wildfires learn']\n",
      "['rt watch decision cancel planned north korea summit']\n",
      "['rt today welcomed 106 year old pearl harbor veteran ray chavez poway california']\n",
      "----------------------------------------\n",
      "['bob mueller going list conflicts interest taken long listed top 22 000 000 report 13 angry democrats list conflicts crooked h many people sent jail']\n",
      "['president absolutely demonstrated wrongdoing whatsoever amp special counsel evidence wrongdoing words time end witch hunt russian collusion excuse democrats lost election']\n",
      "['law firm eventually kremlin connected sources gather info donald trump collusion real russia hillary democrats demand full investigation dan bongino looking forward new ig report']\n",
      "['witch hunt given russia looking rest world easily able take mid term elections put hurt republican party worry dems fisa abuse missing emails fraudulent dossier']\n",
      "['wow strzok page incompetent amp corrupt fbi lovers texts referring counter intelligence operation trump campaign dating way back december 2015 spygate full force mainstream media interested yet big stuff']\n",
      "['michael isikoff first report dossier allegations seriously doubts dossier claims whole russian collusion thing hoax going restore good name many people whose reputations destroyed']\n",
      "['missing text messages fired fbi agents peter lovely lisa page lover reported erased wiped clean outrage totally compromised conflicted witch hunt moves ever slowly forward want']\n",
      "['senator feinstein democrats held letter months release bang hearings done purposefully obstruct amp resist amp delay let testify take vote']\n",
      "['heritage foundation stated 64 trump agenda already done faster even ronald reagan blown away said thomas binion heritage president trump active conservative effective huge volume amp spectrum issues']\n",
      "['universities someday study highly conflicted senate approved bob mueller gang democrat thugs done destroy people protecting crooked hillary comey mccabe lisa page amp lover peter friends side']\n",
      "----------------------------------------\n",
      "['hear fake news talking negatively meeting president putin gave remember gave nothing merely talked future benefits countries also got along well good thing except corrupt media']\n",
      "['90 approval rating time favorite hope president within republican party 52 overall despite made stories fake news media trying endlessly make look bad evil possible look real villains please']\n",
      "['cannot state strongly enough totally dishonest much media truth matter hatred amp agenda includes fake books come time always anonymous sources pure fiction enemy people']\n",
      "['cnn amp others within fake news universe going wild signing maga hats military iraq germany brave young people ask sign hat sign imagine saying brought gave hats fake news first reported']\n",
      "['hit 50 rasmussen poll much higher president obama point phony stories fake news hard believe thank america great things']\n",
      "['poll came 48 approval rate despite constant intense fake news higher election day higher president obama rasmussen one accurate election day polls']\n",
      "['believe made unsourced stories get fake news media together 10 000 000 russian witch hunt collusion best poll numbers year much media may corrupt people truly get']\n",
      "['summit russia great success except real enemy people fake news media look forward second meeting start implementing many things discussed including stopping terrorism security israel nuclear']\n",
      "['brett mcgurk know appointed president obama 2015 supposed leave february resigned prior leaving grandstander fake news making big deal nothing event']\n",
      "['lanny davis admits anonymous source cnn report oh well much cnn saying lanny wonder ratings low fake news']\n",
      "----------------------------------------\n"
     ]
    }
   ],
   "source": [
    "# apply the KMeans algorithm to the reduced data\n",
    "kmeans = KMeans(random_state=73).fit(reduced)\n",
    "sk_clusters = [[] for i in range(max(kmeans.labels_+1))]\n",
    "for idx, lbl in enumerate(kmeans.labels_):\n",
    "    sk_clusters[lbl].append(idx)\n",
    "    \n",
    "print(list(map(len, sk_clusters)))\n",
    "\n",
    "random.seed(52345234)\n",
    "# take some random tweets from every cluster\n",
    "for cluster in sk_clusters:\n",
    "    some_tweet_idx = random.sample(cluster, 10)\n",
    "    for idx in some_tweet_idx:\n",
    "        print(data[\"text\"][idx].replace(\"', '\", \" \"))\n",
    "    print(\"-\"*40)"
   ]
  },
  {
   "cell_type": "code",
   "execution_count": null,
   "metadata": {},
   "outputs": [],
   "source": []
  }
 ],
 "metadata": {
  "kernelspec": {
   "display_name": "Python 3",
   "language": "python",
   "name": "python3"
  },
  "language_info": {
   "codemirror_mode": {
    "name": "ipython",
    "version": 3
   },
   "file_extension": ".py",
   "mimetype": "text/x-python",
   "name": "python",
   "nbconvert_exporter": "python",
   "pygments_lexer": "ipython3",
   "version": "3.7.1"
  }
 },
 "nbformat": 4,
 "nbformat_minor": 2
}
